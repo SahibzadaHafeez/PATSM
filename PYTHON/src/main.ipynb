{
 "cells": [
  {
   "cell_type": "code",
   "execution_count": 2,
   "metadata": {},
   "outputs": [],
   "source": [
    "import pandas\n",
    "import os\n",
    "from sklearn.feature_extraction.text import TfidfVectorizer\n",
    "from sklearn.feature_extraction import DictVectorizer\n",
    "from scipy.sparse import hstack\n",
    "from sklearn.linear_model import Ridge\n",
    "from sklearn.model_selection import train_test_split\n",
    "\n",
    "from keras.preprocessing import sequence\n",
    "from keras.models import Sequential\n",
    "from keras.preprocessing import text\n",
    "#from keras.utils import pad_sequences\n",
    "import wandb\n",
    "\n",
    "from keras import Sequential\n",
    "import keras\n",
    "from sklearn.ensemble import RandomForestRegressor\n",
    "\n",
    "import tensorflow as tf\n",
    "\n"
   ]
  },
  {
   "cell_type": "code",
   "execution_count": 3,
   "metadata": {},
   "outputs": [],
   "source": [
    "train = pandas.read_csv('../dataset/final_cleaned_data.csv')\n",
    "\n",
    "X = train['tweet']\n",
    "y_n = train['neuroticism']\n",
    "y_e = train['extraversion']\n",
    "y_o = train['openness']\n",
    "y_a = train['agreeableness']\n",
    "y_c = train['conscientiousness']"
   ]
  },
  {
   "cell_type": "code",
   "execution_count": null,
   "metadata": {},
   "outputs": [],
   "source": [
    "wandb.init()\n",
    "config = wandb.config"
   ]
  },
  {
   "cell_type": "code",
   "execution_count": 4,
   "metadata": {},
   "outputs": [
    {
     "ename": "NameError",
     "evalue": "name 'config' is not defined",
     "output_type": "error",
     "traceback": [
      "\u001b[1;31m---------------------------------------------------------------------------\u001b[0m",
      "\u001b[1;31mNameError\u001b[0m                                 Traceback (most recent call last)",
      "\u001b[1;32mc:\\Users\\Hafeez\\OneDrive\\Uni\\FYP\\PATSM\\PYTHON\\src\\main.ipynb Cell 4\u001b[0m in \u001b[0;36m<cell line: 2>\u001b[1;34m()\u001b[0m\n\u001b[0;32m      <a href='vscode-notebook-cell:/c%3A/Users/Hafeez/OneDrive/Uni/FYP/PATSM/PYTHON/src/main.ipynb#W3sZmlsZQ%3D%3D?line=0'>1</a>\u001b[0m \u001b[39m#set papameters\u001b[39;00m\n\u001b[1;32m----> <a href='vscode-notebook-cell:/c%3A/Users/Hafeez/OneDrive/Uni/FYP/PATSM/PYTHON/src/main.ipynb#W3sZmlsZQ%3D%3D?line=1'>2</a>\u001b[0m config\u001b[39m.\u001b[39mvocab_size \u001b[39m=\u001b[39m \u001b[39m2000\u001b[39m\n\u001b[0;32m      <a href='vscode-notebook-cell:/c%3A/Users/Hafeez/OneDrive/Uni/FYP/PATSM/PYTHON/src/main.ipynb#W3sZmlsZQ%3D%3D?line=2'>3</a>\u001b[0m config\u001b[39m.\u001b[39mmaxlen \u001b[39m=\u001b[39m \u001b[39m30\u001b[39m\n\u001b[0;32m      <a href='vscode-notebook-cell:/c%3A/Users/Hafeez/OneDrive/Uni/FYP/PATSM/PYTHON/src/main.ipynb#W3sZmlsZQ%3D%3D?line=3'>4</a>\u001b[0m config\u001b[39m.\u001b[39mbatch_size \u001b[39m=\u001b[39m \u001b[39m32\u001b[39m\n",
      "\u001b[1;31mNameError\u001b[0m: name 'config' is not defined"
     ]
    }
   ],
   "source": [
    "#set papameters\n",
    "config.vocab_size = 2000\n",
    "config.maxlen = 30\n",
    "config.batch_size = 32\n",
    "config.embedding_dims = 10\n",
    "config.filters = 16\n",
    "config.kernel_size = 3\n",
    "config.hidden_dims = 250\n",
    "config.epochs = 10\n",
    "\n",
    "X_train, X_test, y_train_n, y_test_n, y_train_e, y_test_e, y_train_o, y_test_o, y_train_a, y_test_a, y_train_c, y_test_c = train_test_split(X, y_n, y_e, y_o, y_a, y_c, test_size=0.2)\n",
    "\n",
    "tokenizer = text.Tokenizer(num_words = config.vocab_size)\n",
    "tokenizer.fit_on_texts(X)\n",
    "X_train = tokenizer.texts_to_matrix(X_train)\n",
    "X_test = tokenizer.texts_to_matrix(X_test)\n"
   ]
  },
  {
   "cell_type": "code",
   "execution_count": null,
   "metadata": {},
   "outputs": [],
   "source": [
    "sample_size = X_train.shape[0]\n",
    "time_steps = X_train.shape[1]\n",
    "input_dimention = 1\n",
    "\n",
    "train_data_reshaped = X_train.reshape(sample_size, time_steps, input_dimention)\n",
    "\n",
    "sample_size = X_test.shape[0]\n",
    "time_steps = X_test.shape[1]\n",
    "input_dimention = 1\n",
    "\n",
    "test_data_reshaped = X_test.reshape(sample_size, time_steps, input_dimention)"
   ]
  },
  {
   "cell_type": "code",
   "execution_count": null,
   "metadata": {},
   "outputs": [],
   "source": [
    "n_timesteps = train_data_reshaped.shape[1]\n",
    "n_features = train_data_reshaped.shape[2]\n",
    "\n",
    "model = Sequential(name=\"model_conv1D\")\n",
    "model.add(keras.layers.Input(shape=(n_timesteps, n_features)))\n",
    "model.add(keras.layers.Conv1D(filters=64, kernel_size=32, activation=\"relu\", name=\"Conv1D_1\"))\n",
    "\n",
    "model.add(keras.layers.Dropout(0.5))\n",
    "model.add(keras.layers.Conv1D(filters=64, kernel_size=16, activation=\"relu\", name=\"Conv1D_2\"))\n",
    "model.add(keras.layers.Conv1D(filters=32, kernel_size=16, activation=\"relu\", name=\"Conv1D_3\"))\n",
    "model.add(keras.layers.Conv1D(filters=16, kernel_size=8, activation=\"relu\", name=\"Conv1D_4\"))\n",
    "model.add(keras.layers.Conv1D(filters=8, kernel_size=4, activation=\"relu\", name=\"Conv1D_5\"))\n",
    "model.add(keras.layers.Conv1D(filters=4, kernel_size=2, activation=\"relu\", name=\"Conv1D_6\"))\n",
    "model.add(keras.layers.MaxPooling1D(pool_size=2, name=\"MaxPooling1D\"))\n",
    "model.add(keras.layers.Flatten())\n",
    "model.add(keras.layers.Dense(32, activation=\"relu\", name=\"Dense_1\"))\n",
    "model.add(keras.layers.Dense(n_features, name=\"Dense_2\"))\n",
    "#model.cuda\n",
    "optimizer = tf.keras.optimizers.RMSprop(0.001)\n",
    "\n",
    "model.compile(loss='mse', optimizer=optimizer, metrics=['mae'])\n",
    "\n",
    "model.summary()\n"
   ]
  },
  {
   "cell_type": "code",
   "execution_count": null,
   "metadata": {},
   "outputs": [],
   "source": [
    "model.fit(train_data_reshaped, y_train_n, epochs=50, validation_split=0.2, verbose=1)\n",
    "model.save(\"../models/n_manual_model_temp.h5\")"
   ]
  },
  {
   "cell_type": "code",
   "execution_count": null,
   "metadata": {},
   "outputs": [],
   "source": [
    "model.fit(train_data_reshaped, y_train_e, epochs=50, validation_split=0.2, verbose=1)\n",
    "model.save(\"../models/e_manual_model_temp.h5\")"
   ]
  },
  {
   "cell_type": "code",
   "execution_count": null,
   "metadata": {},
   "outputs": [],
   "source": [
    "model.fit(train_data_reshaped, y_train_o, epochs=50, validation_split=0.2, verbose=1)\n",
    "model.save(\"../models/o_manual_model_temp.h5\")"
   ]
  },
  {
   "cell_type": "code",
   "execution_count": null,
   "metadata": {},
   "outputs": [],
   "source": [
    "model.fit(train_data_reshaped, y_train_a, epochs=50, validation_split=0.2, verbose=1)\n",
    "model.save(\"../models/a_manual_model_temp.h5\")"
   ]
  },
  {
   "cell_type": "code",
   "execution_count": null,
   "metadata": {},
   "outputs": [],
   "source": [
    "model.fit(train_data_reshaped, y_train_c, epochs=50, validation_split=0.2, verbose=1)\n",
    "model.save(\"../models/c_manual_model_temp.h5\")"
   ]
  },
  {
   "cell_type": "code",
   "execution_count": null,
   "metadata": {},
   "outputs": [],
   "source": [
    "#model.predict(test_data_reshaped)"
   ]
  },
  {
   "cell_type": "code",
   "execution_count": null,
   "metadata": {},
   "outputs": [],
   "source": [
    "#y_test_n"
   ]
  }
 ],
 "metadata": {
  "kernelspec": {
   "display_name": "Python 3.8.0 64-bit",
   "language": "python",
   "name": "python3"
  },
  "language_info": {
   "codemirror_mode": {
    "name": "ipython",
    "version": 3
   },
   "file_extension": ".py",
   "mimetype": "text/x-python",
   "name": "python",
   "nbconvert_exporter": "python",
   "pygments_lexer": "ipython3",
   "version": "3.8.0"
  },
  "orig_nbformat": 4,
  "vscode": {
   "interpreter": {
    "hash": "570feb405e2e27c949193ac68f46852414290d515b0ba6e5d90d076ed2284471"
   }
  }
 },
 "nbformat": 4,
 "nbformat_minor": 2
}
