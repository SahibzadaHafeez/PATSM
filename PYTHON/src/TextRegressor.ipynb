{
 "cells": [
  {
   "cell_type": "code",
   "execution_count": 1,
   "metadata": {},
   "outputs": [],
   "source": [
    "import pandas\n",
    "import numpy as np\n",
    "import tensorflow as tf\n",
    "from keras.models import load_model\n",
    "import autokeras as ak\n",
    "from sklearn.model_selection import train_test_split\n",
    "\n"
   ]
  },
  {
   "cell_type": "code",
   "execution_count": 2,
   "metadata": {},
   "outputs": [],
   "source": [
    "train = pandas.read_csv('../dataset/final_cleaned_data.csv')\n",
    "\n",
    "X = train['tweet']\n",
    "y_n = train['neuroticism']\n",
    "y_e = train['extraversion']\n",
    "y_o = train['openness']\n",
    "y_a = train['agreeableness']\n",
    "y_c = train['conscientiousness']\n",
    "\n",
    "X_train, X_test, y_train_n, y_test_n, y_train_e, y_test_e, y_train_o, y_test_o, y_train_a, y_test_a, y_train_c, y_test_c = train_test_split(X, y_n, y_e, y_o, y_a, y_c, test_size=0.2)"
   ]
  },
  {
   "cell_type": "code",
   "execution_count": null,
   "metadata": {},
   "outputs": [],
   "source": [
    "y_train_n.shape\n",
    "type(X_train)"
   ]
  },
  {
   "cell_type": "code",
   "execution_count": 3,
   "metadata": {},
   "outputs": [],
   "source": [
    "X_train = np.array(X_train)\n",
    "X_test = np.array(X_test)\n",
    "y_train_n = np.array(y_train_n)\n",
    "y_train_e = np.array(y_train_e)\n",
    "y_train_o = np.array(y_train_o)\n",
    "y_train_a = np.array(y_train_a)\n",
    "y_train_c = np.array(y_train_c)\n",
    "y_test_n = np.array(y_test_n)\n",
    "y_test_e = np.array(y_test_e)\n",
    "y_test_o = np.array(y_test_o)\n",
    "y_test_a = np.array(y_test_a)\n",
    "y_test_c = np.array(y_test_c)\n",
    "\n",
    "# y_test_n = np.array(y_test_n)"
   ]
  },
  {
   "cell_type": "code",
   "execution_count": null,
   "metadata": {},
   "outputs": [],
   "source": [
    "type(y_train_n)"
   ]
  },
  {
   "cell_type": "code",
   "execution_count": 5,
   "metadata": {},
   "outputs": [
    {
     "name": "stdout",
     "output_type": "stream",
     "text": [
      "Trial 5 Complete [00h 01m 49s]\n",
      "val_loss: 325.17510986328125\n",
      "\n",
      "Best val_loss So Far: 321.80096435546875\n",
      "Total elapsed time: 00h 08m 03s\n",
      "INFO:tensorflow:Oracle triggered exit\n",
      "Epoch 1/10\n",
      "383/383 [==============================] - 15s 33ms/step - loss: 533.9898 - mean_squared_error: 533.9898\n",
      "Epoch 2/10\n",
      "383/383 [==============================] - 12s 32ms/step - loss: 304.6859 - mean_squared_error: 304.6859\n",
      "Epoch 3/10\n",
      "383/383 [==============================] - 12s 32ms/step - loss: 267.5747 - mean_squared_error: 267.5747\n",
      "Epoch 4/10\n",
      "383/383 [==============================] - 12s 31ms/step - loss: 241.8206 - mean_squared_error: 241.8206\n",
      "Epoch 5/10\n",
      "383/383 [==============================] - 12s 31ms/step - loss: 223.6184 - mean_squared_error: 223.6184\n",
      "Epoch 6/10\n",
      "383/383 [==============================] - 12s 32ms/step - loss: 186.1432 - mean_squared_error: 186.1432\n",
      "Epoch 7/10\n",
      "383/383 [==============================] - 12s 32ms/step - loss: 170.7138 - mean_squared_error: 170.7138\n",
      "Epoch 8/10\n",
      "383/383 [==============================] - 13s 33ms/step - loss: 167.8578 - mean_squared_error: 167.8578\n",
      "Epoch 9/10\n",
      "383/383 [==============================] - 13s 33ms/step - loss: 145.7962 - mean_squared_error: 145.7962\n",
      "Epoch 10/10\n",
      "383/383 [==============================] - 12s 32ms/step - loss: 131.6251 - mean_squared_error: 131.6251\n"
     ]
    },
    {
     "name": "stderr",
     "output_type": "stream",
     "text": [
      "WARNING:absl:Found untraced functions such as _jit_compiled_convolution_op, _jit_compiled_convolution_op, _jit_compiled_convolution_op, _jit_compiled_convolution_op, _update_step_xla while saving (showing 5 of 5). These functions will not be directly callable after loading.\n"
     ]
    },
    {
     "name": "stdout",
     "output_type": "stream",
     "text": [
      "INFO:tensorflow:Assets written to: .\\text_regressor\\best_model\\assets\n"
     ]
    },
    {
     "name": "stderr",
     "output_type": "stream",
     "text": [
      "INFO:tensorflow:Assets written to: .\\text_regressor\\best_model\\assets\n",
      "WARNING:absl:Found untraced functions such as _jit_compiled_convolution_op, _jit_compiled_convolution_op, _jit_compiled_convolution_op, _jit_compiled_convolution_op, _update_step_xla while saving (showing 5 of 5). These functions will not be directly callable after loading.\n"
     ]
    },
    {
     "name": "stdout",
     "output_type": "stream",
     "text": [
      "INFO:tensorflow:Assets written to: ../models/n_model_r\\assets\n"
     ]
    },
    {
     "name": "stderr",
     "output_type": "stream",
     "text": [
      "INFO:tensorflow:Assets written to: ../models/n_model_r\\assets\n"
     ]
    }
   ],
   "source": [
    "reg = ak.TextRegressor(overwrite=True, max_trials=5)\n",
    "\n",
    "reg.fit(X_train, y_train_n, epochs=10)\n",
    "model = reg.export_model()\n",
    "model.save(\"../models/n_model_r\", save_format='tf')"
   ]
  },
  {
   "cell_type": "code",
   "execution_count": 6,
   "metadata": {},
   "outputs": [
    {
     "name": "stdout",
     "output_type": "stream",
     "text": [
      "Trial 5 Complete [00h 01m 14s]\n",
      "val_loss: 252.189697265625\n",
      "\n",
      "Best val_loss So Far: 252.189697265625\n",
      "Total elapsed time: 00h 06m 32s\n",
      "INFO:tensorflow:Oracle triggered exit\n"
     ]
    },
    {
     "name": "stderr",
     "output_type": "stream",
     "text": [
      "INFO:tensorflow:Oracle triggered exit\n"
     ]
    },
    {
     "name": "stdout",
     "output_type": "stream",
     "text": [
      "Epoch 1/10\n",
      "383/383 [==============================] - 11s 22ms/step - loss: 1020.5086 - mean_squared_error: 1020.5086\n",
      "Epoch 2/10\n",
      "383/383 [==============================] - 8s 21ms/step - loss: 246.3416 - mean_squared_error: 246.3416\n",
      "Epoch 3/10\n",
      "118/383 [========>.....................] - ETA: 5s - loss: 237.5223 - mean_squared_error: 237.5223"
     ]
    },
    {
     "name": "stdout",
     "output_type": "stream",
     "text": [
      "383/383 [==============================] - 8s 22ms/step - loss: 226.6419 - mean_squared_error: 226.6419\n",
      "Epoch 4/10\n",
      "383/383 [==============================] - 9s 23ms/step - loss: 205.1174 - mean_squared_error: 205.1174\n",
      "Epoch 5/10\n",
      "383/383 [==============================] - 8s 21ms/step - loss: 190.6263 - mean_squared_error: 190.6263\n",
      "Epoch 6/10\n",
      "383/383 [==============================] - 10s 26ms/step - loss: 177.2114 - mean_squared_error: 177.2114\n",
      "Epoch 7/10\n",
      "383/383 [==============================] - 10s 25ms/step - loss: 164.5395 - mean_squared_error: 164.5395\n",
      "Epoch 8/10\n",
      "383/383 [==============================] - 10s 25ms/step - loss: 153.5324 - mean_squared_error: 153.5324\n",
      "Epoch 9/10\n",
      "383/383 [==============================] - 10s 26ms/step - loss: 142.1309 - mean_squared_error: 142.1309\n",
      "Epoch 10/10\n",
      "383/383 [==============================] - 9s 24ms/step - loss: 132.5413 - mean_squared_error: 132.5413\n"
     ]
    },
    {
     "name": "stderr",
     "output_type": "stream",
     "text": [
      "WARNING:absl:Found untraced functions such as _jit_compiled_convolution_op, _jit_compiled_convolution_op, _jit_compiled_convolution_op, _jit_compiled_convolution_op, _update_step_xla while saving (showing 5 of 5). These functions will not be directly callable after loading.\n"
     ]
    },
    {
     "name": "stdout",
     "output_type": "stream",
     "text": [
      "INFO:tensorflow:Assets written to: .\\text_regressor\\best_model\\assets\n"
     ]
    },
    {
     "name": "stderr",
     "output_type": "stream",
     "text": [
      "INFO:tensorflow:Assets written to: .\\text_regressor\\best_model\\assets\n",
      "WARNING:absl:Found untraced functions such as _jit_compiled_convolution_op, _jit_compiled_convolution_op, _jit_compiled_convolution_op, _jit_compiled_convolution_op, _update_step_xla while saving (showing 5 of 5). These functions will not be directly callable after loading.\n"
     ]
    },
    {
     "name": "stdout",
     "output_type": "stream",
     "text": [
      "INFO:tensorflow:Assets written to: ../models/e_model_r\\assets\n"
     ]
    },
    {
     "name": "stderr",
     "output_type": "stream",
     "text": [
      "INFO:tensorflow:Assets written to: ../models/e_model_r\\assets\n"
     ]
    }
   ],
   "source": [
    "reg = ak.TextRegressor(overwrite=True, max_trials=5)\n",
    "\n",
    "reg.fit(X_train, y_train_e, epochs=10)\n",
    "model = reg.export_model()\n",
    "model.save(\"../models/e_model_r\", save_format='tf')"
   ]
  },
  {
   "cell_type": "code",
   "execution_count": 7,
   "metadata": {},
   "outputs": [
    {
     "name": "stdout",
     "output_type": "stream",
     "text": [
      "Trial 5 Complete [00h 04m 23s]\n",
      "val_loss: 121.56393432617188\n",
      "\n",
      "Best val_loss So Far: 121.5616455078125\n",
      "Total elapsed time: 00h 08m 50s\n",
      "INFO:tensorflow:Oracle triggered exit\n"
     ]
    },
    {
     "name": "stderr",
     "output_type": "stream",
     "text": [
      "INFO:tensorflow:Oracle triggered exit\n"
     ]
    },
    {
     "name": "stdout",
     "output_type": "stream",
     "text": [
      "Epoch 1/10\n",
      "383/383 [==============================] - 9s 20ms/step - loss: 15208.6348 - mean_squared_error: 15208.6348\n",
      "Epoch 2/10\n",
      "383/383 [==============================] - 7s 20ms/step - loss: 125.9395 - mean_squared_error: 125.9395\n",
      "Epoch 3/10\n",
      "383/383 [==============================] - 8s 20ms/step - loss: 126.4561 - mean_squared_error: 126.4561\n",
      "Epoch 4/10\n",
      "383/383 [==============================] - 8s 20ms/step - loss: 126.9112 - mean_squared_error: 126.9112\n",
      "Epoch 5/10\n",
      "383/383 [==============================] - 8s 20ms/step - loss: 127.2604 - mean_squared_error: 127.2604\n",
      "Epoch 6/10\n",
      "383/383 [==============================] - 8s 20ms/step - loss: 127.5734 - mean_squared_error: 127.5734\n",
      "Epoch 7/10\n",
      "383/383 [==============================] - 8s 20ms/step - loss: 127.9137 - mean_squared_error: 127.9137\n",
      "Epoch 8/10\n",
      "383/383 [==============================] - 7s 20ms/step - loss: 128.2932 - mean_squared_error: 128.2932\n",
      "Epoch 9/10\n",
      "383/383 [==============================] - 8s 20ms/step - loss: 130.8635 - mean_squared_error: 130.8635\n",
      "Epoch 10/10\n",
      "383/383 [==============================] - 7s 20ms/step - loss: 129.0005 - mean_squared_error: 129.0005\n"
     ]
    },
    {
     "name": "stderr",
     "output_type": "stream",
     "text": [
      "WARNING:absl:Found untraced functions such as _jit_compiled_convolution_op, _jit_compiled_convolution_op, _jit_compiled_convolution_op, _jit_compiled_convolution_op, _update_step_xla while saving (showing 5 of 5). These functions will not be directly callable after loading.\n"
     ]
    },
    {
     "name": "stdout",
     "output_type": "stream",
     "text": [
      "INFO:tensorflow:Assets written to: .\\text_regressor\\best_model\\assets\n"
     ]
    },
    {
     "name": "stderr",
     "output_type": "stream",
     "text": [
      "INFO:tensorflow:Assets written to: .\\text_regressor\\best_model\\assets\n",
      "WARNING:absl:Found untraced functions such as _jit_compiled_convolution_op, _jit_compiled_convolution_op, _jit_compiled_convolution_op, _jit_compiled_convolution_op, _update_step_xla while saving (showing 5 of 5). These functions will not be directly callable after loading.\n"
     ]
    },
    {
     "name": "stdout",
     "output_type": "stream",
     "text": [
      "INFO:tensorflow:Assets written to: ../models/o_model_r\\assets\n"
     ]
    },
    {
     "name": "stderr",
     "output_type": "stream",
     "text": [
      "INFO:tensorflow:Assets written to: ../models/o_model_r\\assets\n"
     ]
    }
   ],
   "source": [
    "reg = ak.TextRegressor(overwrite=True, max_trials=5)\n",
    "\n",
    "reg.fit(X_train, y_train_o, epochs=10)\n",
    "model = reg.export_model()\n",
    "model.save(\"../models/o_model_r\", save_format='tf')"
   ]
  },
  {
   "cell_type": "code",
   "execution_count": 9,
   "metadata": {},
   "outputs": [
    {
     "name": "stdout",
     "output_type": "stream",
     "text": [
      "Trial 5 Complete [00h 00m 22s]\n",
      "val_loss: 423.2547912597656\n",
      "\n",
      "Best val_loss So Far: 189.70103454589844\n",
      "Total elapsed time: 00h 10m 57s\n",
      "INFO:tensorflow:Oracle triggered exit\n"
     ]
    },
    {
     "name": "stderr",
     "output_type": "stream",
     "text": [
      "INFO:tensorflow:Oracle triggered exit\n"
     ]
    },
    {
     "name": "stdout",
     "output_type": "stream",
     "text": [
      "Epoch 1/10\n",
      "383/383 [==============================] - 12s 26ms/step - loss: 754.7990 - mean_squared_error: 754.7990\n",
      "Epoch 2/10\n",
      "383/383 [==============================] - 14s 36ms/step - loss: 186.0017 - mean_squared_error: 186.0017\n",
      "Epoch 3/10\n",
      "383/383 [==============================] - 12s 33ms/step - loss: 168.5259 - mean_squared_error: 168.5259\n",
      "Epoch 4/10\n",
      "383/383 [==============================] - 12s 31ms/step - loss: 156.1759 - mean_squared_error: 156.1759\n",
      "Epoch 5/10\n",
      "383/383 [==============================] - 11s 28ms/step - loss: 147.1847 - mean_squared_error: 147.1847\n",
      "Epoch 6/10\n",
      "383/383 [==============================] - 10s 26ms/step - loss: 138.3757 - mean_squared_error: 138.3757\n",
      "Epoch 7/10\n",
      "383/383 [==============================] - 11s 29ms/step - loss: 129.4787 - mean_squared_error: 129.4787\n",
      "Epoch 8/10\n",
      "383/383 [==============================] - 12s 31ms/step - loss: 126.2198 - mean_squared_error: 126.2198\n",
      "Epoch 9/10\n",
      "383/383 [==============================] - 9s 24ms/step - loss: 130.9836 - mean_squared_error: 130.9836\n",
      "Epoch 10/10\n",
      "383/383 [==============================] - 9s 22ms/step - loss: 125.2540 - mean_squared_error: 125.2540\n"
     ]
    },
    {
     "name": "stderr",
     "output_type": "stream",
     "text": [
      "WARNING:absl:Found untraced functions such as _jit_compiled_convolution_op, _jit_compiled_convolution_op, _jit_compiled_convolution_op, _jit_compiled_convolution_op, _update_step_xla while saving (showing 5 of 5). These functions will not be directly callable after loading.\n"
     ]
    },
    {
     "name": "stdout",
     "output_type": "stream",
     "text": [
      "INFO:tensorflow:Assets written to: .\\text_regressor\\best_model\\assets\n"
     ]
    },
    {
     "name": "stderr",
     "output_type": "stream",
     "text": [
      "INFO:tensorflow:Assets written to: .\\text_regressor\\best_model\\assets\n",
      "WARNING:absl:Found untraced functions such as _jit_compiled_convolution_op, _jit_compiled_convolution_op, _jit_compiled_convolution_op, _jit_compiled_convolution_op, _update_step_xla while saving (showing 5 of 5). These functions will not be directly callable after loading.\n"
     ]
    },
    {
     "name": "stdout",
     "output_type": "stream",
     "text": [
      "INFO:tensorflow:Assets written to: ../models/a_model_r\\assets\n"
     ]
    },
    {
     "name": "stderr",
     "output_type": "stream",
     "text": [
      "INFO:tensorflow:Assets written to: ../models/a_model_r\\assets\n"
     ]
    }
   ],
   "source": [
    "reg = ak.TextRegressor(overwrite=True, max_trials=5)\n",
    "\n",
    "reg.fit(X_train, y_train_a, epochs=10)\n",
    "model = reg.export_model()\n",
    "model.save(\"../models/a_model_r\", save_format='tf')"
   ]
  },
  {
   "cell_type": "code",
   "execution_count": 12,
   "metadata": {},
   "outputs": [
    {
     "name": "stdout",
     "output_type": "stream",
     "text": [
      "\n",
      "Search: Running Trial #1\n",
      "\n",
      "Value             |Best Value So Far |Hyperparameter\n",
      "vanilla           |?                 |text_block_1/block_type\n",
      "5000              |?                 |text_block_1/max_tokens\n",
      "64                |?                 |text_block_1/text_to_int_sequence_1/output_sequence_length\n",
      "none              |?                 |text_block_1/embedding_1/pretraining\n",
      "128               |?                 |text_block_1/embedding_1/embedding_dim\n",
      "0.25              |?                 |text_block_1/embedding_1/dropout\n",
      "3                 |?                 |text_block_1/conv_block_1/kernel_size\n",
      "False             |?                 |text_block_1/conv_block_1/separable\n",
      "True              |?                 |text_block_1/conv_block_1/max_pooling\n",
      "2                 |?                 |text_block_1/conv_block_1/num_blocks\n",
      "2                 |?                 |text_block_1/conv_block_1/num_layers\n",
      "32                |?                 |text_block_1/conv_block_1/filters_0_0\n",
      "32                |?                 |text_block_1/conv_block_1/filters_0_1\n",
      "0                 |?                 |text_block_1/conv_block_1/dropout\n",
      "32                |?                 |text_block_1/conv_block_1/filters_1_0\n",
      "32                |?                 |text_block_1/conv_block_1/filters_1_1\n",
      "flatten           |?                 |text_block_1/spatial_reduction_1/reduction_type\n",
      "False             |?                 |text_block_1/dense_block_1/use_batchnorm\n",
      "3                 |?                 |text_block_1/dense_block_1/num_layers\n",
      "32                |?                 |text_block_1/dense_block_1/units_0\n",
      "0                 |?                 |text_block_1/dense_block_1/dropout\n",
      "32                |?                 |text_block_1/dense_block_1/units_1\n",
      "0                 |?                 |regression_head_1/dropout\n",
      "adam              |?                 |optimizer\n",
      "0.001             |?                 |learning_rate\n",
      "\n",
      "Epoch 1/10\n",
      "307/307 [==============================] - 11s 29ms/step - loss: 923.6913 - mean_squared_error: 923.6913 - val_loss: 235.0871 - val_mean_squared_error: 235.0871\n",
      "Epoch 2/10\n",
      "307/307 [==============================] - 10s 33ms/step - loss: 235.6673 - mean_squared_error: 235.6673 - val_loss: 237.2073 - val_mean_squared_error: 237.2073\n",
      "Epoch 3/10\n",
      "307/307 [==============================] - 8s 27ms/step - loss: 208.5505 - mean_squared_error: 208.5505 - val_loss: 235.7926 - val_mean_squared_error: 235.7926\n",
      "Epoch 4/10\n",
      "307/307 [==============================] - 9s 28ms/step - loss: 181.6955 - mean_squared_error: 181.6955 - val_loss: 244.2403 - val_mean_squared_error: 244.2403\n",
      "Epoch 5/10\n",
      "307/307 [==============================] - 9s 30ms/step - loss: 164.8244 - mean_squared_error: 164.8244 - val_loss: 249.2973 - val_mean_squared_error: 249.2973\n",
      "Epoch 6/10\n",
      "307/307 [==============================] - 9s 28ms/step - loss: 149.8390 - mean_squared_error: 149.8390 - val_loss: 255.7791 - val_mean_squared_error: 255.7791\n",
      "Epoch 7/10\n",
      " 22/307 [=>............................] - ETA: 8s - loss: 143.7914 - mean_squared_error: 143.7914"
     ]
    },
    {
     "ename": "KeyboardInterrupt",
     "evalue": "",
     "output_type": "error",
     "traceback": [
      "\u001b[1;31m---------------------------------------------------------------------------\u001b[0m",
      "\u001b[1;31mKeyboardInterrupt\u001b[0m                         Traceback (most recent call last)",
      "Cell \u001b[1;32mIn[12], line 3\u001b[0m\n\u001b[0;32m      1\u001b[0m reg \u001b[39m=\u001b[39m ak\u001b[39m.\u001b[39mTextRegressor(overwrite\u001b[39m=\u001b[39m\u001b[39mTrue\u001b[39;00m, max_trials\u001b[39m=\u001b[39m\u001b[39m5\u001b[39m)\n\u001b[1;32m----> 3\u001b[0m reg\u001b[39m.\u001b[39;49mfit(X_train, y_train_c, epochs\u001b[39m=\u001b[39;49m\u001b[39m10\u001b[39;49m)\n\u001b[0;32m      4\u001b[0m model \u001b[39m=\u001b[39m reg\u001b[39m.\u001b[39mexport_model()\n\u001b[0;32m      5\u001b[0m model\u001b[39m.\u001b[39msave(\u001b[39m\"\u001b[39m\u001b[39m../models/c_model_r\u001b[39m\u001b[39m\"\u001b[39m, save_format\u001b[39m=\u001b[39m\u001b[39m'\u001b[39m\u001b[39mtf\u001b[39m\u001b[39m'\u001b[39m)\n",
      "File \u001b[1;32m~\\AppData\\Local\\Packages\\PythonSoftwareFoundation.Python.3.8_qbz5n2kfra8p0\\LocalCache\\local-packages\\Python38\\site-packages\\autokeras\\tasks\\text.py:292\u001b[0m, in \u001b[0;36mTextRegressor.fit\u001b[1;34m(self, x, y, epochs, callbacks, validation_split, validation_data, **kwargs)\u001b[0m\n\u001b[0;32m    235\u001b[0m \u001b[39mdef\u001b[39;00m \u001b[39mfit\u001b[39m(\n\u001b[0;32m    236\u001b[0m     \u001b[39mself\u001b[39m,\n\u001b[0;32m    237\u001b[0m     x\u001b[39m=\u001b[39m\u001b[39mNone\u001b[39;00m,\n\u001b[1;32m   (...)\u001b[0m\n\u001b[0;32m    243\u001b[0m     \u001b[39m*\u001b[39m\u001b[39m*\u001b[39mkwargs\n\u001b[0;32m    244\u001b[0m ):\n\u001b[0;32m    245\u001b[0m \u001b[39m    \u001b[39m\u001b[39m\"\"\"Search for the best model and hyperparameters for the AutoModel.\u001b[39;00m\n\u001b[0;32m    246\u001b[0m \n\u001b[0;32m    247\u001b[0m \u001b[39m    It will search for the best model based on the performances on\u001b[39;00m\n\u001b[1;32m   (...)\u001b[0m\n\u001b[0;32m    290\u001b[0m \u001b[39m            validation loss values and validation metrics values (if applicable).\u001b[39;00m\n\u001b[0;32m    291\u001b[0m \u001b[39m    \"\"\"\u001b[39;00m\n\u001b[1;32m--> 292\u001b[0m     history \u001b[39m=\u001b[39m \u001b[39msuper\u001b[39;49m()\u001b[39m.\u001b[39;49mfit(\n\u001b[0;32m    293\u001b[0m         x\u001b[39m=\u001b[39;49mx,\n\u001b[0;32m    294\u001b[0m         y\u001b[39m=\u001b[39;49my,\n\u001b[0;32m    295\u001b[0m         epochs\u001b[39m=\u001b[39;49mepochs,\n\u001b[0;32m    296\u001b[0m         callbacks\u001b[39m=\u001b[39;49mcallbacks,\n\u001b[0;32m    297\u001b[0m         validation_split\u001b[39m=\u001b[39;49mvalidation_split,\n\u001b[0;32m    298\u001b[0m         validation_data\u001b[39m=\u001b[39;49mvalidation_data,\n\u001b[0;32m    299\u001b[0m         \u001b[39m*\u001b[39;49m\u001b[39m*\u001b[39;49mkwargs\n\u001b[0;32m    300\u001b[0m     )\n\u001b[0;32m    301\u001b[0m     \u001b[39mreturn\u001b[39;00m history\n",
      "File \u001b[1;32m~\\AppData\\Local\\Packages\\PythonSoftwareFoundation.Python.3.8_qbz5n2kfra8p0\\LocalCache\\local-packages\\Python38\\site-packages\\autokeras\\auto_model.py:292\u001b[0m, in \u001b[0;36mAutoModel.fit\u001b[1;34m(self, x, y, batch_size, epochs, callbacks, validation_split, validation_data, verbose, **kwargs)\u001b[0m\n\u001b[0;32m    287\u001b[0m \u001b[39mif\u001b[39;00m validation_data \u001b[39mis\u001b[39;00m \u001b[39mNone\u001b[39;00m \u001b[39mand\u001b[39;00m validation_split:\n\u001b[0;32m    288\u001b[0m     dataset, validation_data \u001b[39m=\u001b[39m data_utils\u001b[39m.\u001b[39msplit_dataset(\n\u001b[0;32m    289\u001b[0m         dataset, validation_split\n\u001b[0;32m    290\u001b[0m     )\n\u001b[1;32m--> 292\u001b[0m history \u001b[39m=\u001b[39m \u001b[39mself\u001b[39;49m\u001b[39m.\u001b[39;49mtuner\u001b[39m.\u001b[39;49msearch(\n\u001b[0;32m    293\u001b[0m     x\u001b[39m=\u001b[39;49mdataset,\n\u001b[0;32m    294\u001b[0m     epochs\u001b[39m=\u001b[39;49mepochs,\n\u001b[0;32m    295\u001b[0m     callbacks\u001b[39m=\u001b[39;49mcallbacks,\n\u001b[0;32m    296\u001b[0m     validation_data\u001b[39m=\u001b[39;49mvalidation_data,\n\u001b[0;32m    297\u001b[0m     validation_split\u001b[39m=\u001b[39;49mvalidation_split,\n\u001b[0;32m    298\u001b[0m     verbose\u001b[39m=\u001b[39;49mverbose,\n\u001b[0;32m    299\u001b[0m     \u001b[39m*\u001b[39;49m\u001b[39m*\u001b[39;49mkwargs\n\u001b[0;32m    300\u001b[0m )\n\u001b[0;32m    302\u001b[0m \u001b[39mreturn\u001b[39;00m history\n",
      "File \u001b[1;32m~\\AppData\\Local\\Packages\\PythonSoftwareFoundation.Python.3.8_qbz5n2kfra8p0\\LocalCache\\local-packages\\Python38\\site-packages\\autokeras\\engine\\tuner.py:193\u001b[0m, in \u001b[0;36mAutoTuner.search\u001b[1;34m(self, epochs, callbacks, validation_split, verbose, **fit_kwargs)\u001b[0m\n\u001b[0;32m    191\u001b[0m \u001b[39mself\u001b[39m\u001b[39m.\u001b[39m_try_build(hp)\n\u001b[0;32m    192\u001b[0m \u001b[39mself\u001b[39m\u001b[39m.\u001b[39moracle\u001b[39m.\u001b[39mupdate_space(hp)\n\u001b[1;32m--> 193\u001b[0m \u001b[39msuper\u001b[39;49m()\u001b[39m.\u001b[39;49msearch(\n\u001b[0;32m    194\u001b[0m     epochs\u001b[39m=\u001b[39;49mepochs, callbacks\u001b[39m=\u001b[39;49mnew_callbacks, verbose\u001b[39m=\u001b[39;49mverbose, \u001b[39m*\u001b[39;49m\u001b[39m*\u001b[39;49mfit_kwargs\n\u001b[0;32m    195\u001b[0m )\n\u001b[0;32m    197\u001b[0m \u001b[39m# Train the best model use validation data.\u001b[39;00m\n\u001b[0;32m    198\u001b[0m \u001b[39m# Train the best model with enough number of epochs.\u001b[39;00m\n\u001b[0;32m    199\u001b[0m \u001b[39mif\u001b[39;00m validation_split \u001b[39m>\u001b[39m \u001b[39m0\u001b[39m \u001b[39mor\u001b[39;00m early_stopping_inserted:\n",
      "File \u001b[1;32m~\\AppData\\Local\\Packages\\PythonSoftwareFoundation.Python.3.8_qbz5n2kfra8p0\\LocalCache\\local-packages\\Python38\\site-packages\\keras_tuner\\engine\\base_tuner.py:183\u001b[0m, in \u001b[0;36mBaseTuner.search\u001b[1;34m(self, *fit_args, **fit_kwargs)\u001b[0m\n\u001b[0;32m    180\u001b[0m     \u001b[39mcontinue\u001b[39;00m\n\u001b[0;32m    182\u001b[0m \u001b[39mself\u001b[39m\u001b[39m.\u001b[39mon_trial_begin(trial)\n\u001b[1;32m--> 183\u001b[0m results \u001b[39m=\u001b[39m \u001b[39mself\u001b[39;49m\u001b[39m.\u001b[39;49mrun_trial(trial, \u001b[39m*\u001b[39;49mfit_args, \u001b[39m*\u001b[39;49m\u001b[39m*\u001b[39;49mfit_kwargs)\n\u001b[0;32m    184\u001b[0m \u001b[39m# `results` is None indicates user updated oracle in `run_trial()`.\u001b[39;00m\n\u001b[0;32m    185\u001b[0m \u001b[39mif\u001b[39;00m results \u001b[39mis\u001b[39;00m \u001b[39mNone\u001b[39;00m:\n",
      "File \u001b[1;32m~\\AppData\\Local\\Packages\\PythonSoftwareFoundation.Python.3.8_qbz5n2kfra8p0\\LocalCache\\local-packages\\Python38\\site-packages\\keras_tuner\\engine\\tuner.py:295\u001b[0m, in \u001b[0;36mTuner.run_trial\u001b[1;34m(self, trial, *args, **kwargs)\u001b[0m\n\u001b[0;32m    293\u001b[0m     callbacks\u001b[39m.\u001b[39mappend(model_checkpoint)\n\u001b[0;32m    294\u001b[0m     copied_kwargs[\u001b[39m\"\u001b[39m\u001b[39mcallbacks\u001b[39m\u001b[39m\"\u001b[39m] \u001b[39m=\u001b[39m callbacks\n\u001b[1;32m--> 295\u001b[0m     obj_value \u001b[39m=\u001b[39m \u001b[39mself\u001b[39;49m\u001b[39m.\u001b[39;49m_build_and_fit_model(trial, \u001b[39m*\u001b[39;49margs, \u001b[39m*\u001b[39;49m\u001b[39m*\u001b[39;49mcopied_kwargs)\n\u001b[0;32m    297\u001b[0m     histories\u001b[39m.\u001b[39mappend(obj_value)\n\u001b[0;32m    298\u001b[0m \u001b[39mreturn\u001b[39;00m histories\n",
      "File \u001b[1;32m~\\AppData\\Local\\Packages\\PythonSoftwareFoundation.Python.3.8_qbz5n2kfra8p0\\LocalCache\\local-packages\\Python38\\site-packages\\autokeras\\engine\\tuner.py:101\u001b[0m, in \u001b[0;36mAutoTuner._build_and_fit_model\u001b[1;34m(self, trial, *args, **kwargs)\u001b[0m\n\u001b[0;32m     97\u001b[0m pipeline\u001b[39m.\u001b[39msave(\u001b[39mself\u001b[39m\u001b[39m.\u001b[39m_pipeline_path(trial\u001b[39m.\u001b[39mtrial_id))\n\u001b[0;32m     99\u001b[0m \u001b[39mself\u001b[39m\u001b[39m.\u001b[39madapt(model, kwargs[\u001b[39m\"\u001b[39m\u001b[39mx\u001b[39m\u001b[39m\"\u001b[39m])\n\u001b[1;32m--> 101\u001b[0m _, history \u001b[39m=\u001b[39m utils\u001b[39m.\u001b[39;49mfit_with_adaptive_batch_size(\n\u001b[0;32m    102\u001b[0m     model, \u001b[39mself\u001b[39;49m\u001b[39m.\u001b[39;49mhypermodel\u001b[39m.\u001b[39;49mbatch_size, \u001b[39m*\u001b[39;49m\u001b[39m*\u001b[39;49mkwargs\n\u001b[0;32m    103\u001b[0m )\n\u001b[0;32m    104\u001b[0m \u001b[39mreturn\u001b[39;00m history\n",
      "File \u001b[1;32m~\\AppData\\Local\\Packages\\PythonSoftwareFoundation.Python.3.8_qbz5n2kfra8p0\\LocalCache\\local-packages\\Python38\\site-packages\\autokeras\\utils\\utils.py:88\u001b[0m, in \u001b[0;36mfit_with_adaptive_batch_size\u001b[1;34m(model, batch_size, **fit_kwargs)\u001b[0m\n\u001b[0;32m     87\u001b[0m \u001b[39mdef\u001b[39;00m \u001b[39mfit_with_adaptive_batch_size\u001b[39m(model, batch_size, \u001b[39m*\u001b[39m\u001b[39m*\u001b[39mfit_kwargs):\n\u001b[1;32m---> 88\u001b[0m     history \u001b[39m=\u001b[39m run_with_adaptive_batch_size(\n\u001b[0;32m     89\u001b[0m         batch_size, \u001b[39mlambda\u001b[39;49;00m \u001b[39m*\u001b[39;49m\u001b[39m*\u001b[39;49mkwargs: model\u001b[39m.\u001b[39;49mfit(\u001b[39m*\u001b[39;49m\u001b[39m*\u001b[39;49mkwargs), \u001b[39m*\u001b[39;49m\u001b[39m*\u001b[39;49mfit_kwargs\n\u001b[0;32m     90\u001b[0m     )\n\u001b[0;32m     91\u001b[0m     \u001b[39mreturn\u001b[39;00m model, history\n",
      "File \u001b[1;32m~\\AppData\\Local\\Packages\\PythonSoftwareFoundation.Python.3.8_qbz5n2kfra8p0\\LocalCache\\local-packages\\Python38\\site-packages\\autokeras\\utils\\utils.py:101\u001b[0m, in \u001b[0;36mrun_with_adaptive_batch_size\u001b[1;34m(batch_size, func, **fit_kwargs)\u001b[0m\n\u001b[0;32m     99\u001b[0m \u001b[39mwhile\u001b[39;00m batch_size \u001b[39m>\u001b[39m \u001b[39m0\u001b[39m:\n\u001b[0;32m    100\u001b[0m     \u001b[39mtry\u001b[39;00m:\n\u001b[1;32m--> 101\u001b[0m         history \u001b[39m=\u001b[39m func(x\u001b[39m=\u001b[39;49mx, validation_data\u001b[39m=\u001b[39;49mvalidation_data, \u001b[39m*\u001b[39;49m\u001b[39m*\u001b[39;49mfit_kwargs)\n\u001b[0;32m    102\u001b[0m         \u001b[39mbreak\u001b[39;00m\n\u001b[0;32m    103\u001b[0m     \u001b[39mexcept\u001b[39;00m tf\u001b[39m.\u001b[39merrors\u001b[39m.\u001b[39mResourceExhaustedError \u001b[39mas\u001b[39;00m e:\n",
      "File \u001b[1;32m~\\AppData\\Local\\Packages\\PythonSoftwareFoundation.Python.3.8_qbz5n2kfra8p0\\LocalCache\\local-packages\\Python38\\site-packages\\autokeras\\utils\\utils.py:89\u001b[0m, in \u001b[0;36mfit_with_adaptive_batch_size.<locals>.<lambda>\u001b[1;34m(**kwargs)\u001b[0m\n\u001b[0;32m     87\u001b[0m \u001b[39mdef\u001b[39;00m \u001b[39mfit_with_adaptive_batch_size\u001b[39m(model, batch_size, \u001b[39m*\u001b[39m\u001b[39m*\u001b[39mfit_kwargs):\n\u001b[0;32m     88\u001b[0m     history \u001b[39m=\u001b[39m run_with_adaptive_batch_size(\n\u001b[1;32m---> 89\u001b[0m         batch_size, \u001b[39mlambda\u001b[39;00m \u001b[39m*\u001b[39m\u001b[39m*\u001b[39mkwargs: model\u001b[39m.\u001b[39;49mfit(\u001b[39m*\u001b[39;49m\u001b[39m*\u001b[39;49mkwargs), \u001b[39m*\u001b[39m\u001b[39m*\u001b[39mfit_kwargs\n\u001b[0;32m     90\u001b[0m     )\n\u001b[0;32m     91\u001b[0m     \u001b[39mreturn\u001b[39;00m model, history\n",
      "File \u001b[1;32m~\\AppData\\Local\\Packages\\PythonSoftwareFoundation.Python.3.8_qbz5n2kfra8p0\\LocalCache\\local-packages\\Python38\\site-packages\\keras\\utils\\traceback_utils.py:65\u001b[0m, in \u001b[0;36mfilter_traceback.<locals>.error_handler\u001b[1;34m(*args, **kwargs)\u001b[0m\n\u001b[0;32m     63\u001b[0m filtered_tb \u001b[39m=\u001b[39m \u001b[39mNone\u001b[39;00m\n\u001b[0;32m     64\u001b[0m \u001b[39mtry\u001b[39;00m:\n\u001b[1;32m---> 65\u001b[0m     \u001b[39mreturn\u001b[39;00m fn(\u001b[39m*\u001b[39;49margs, \u001b[39m*\u001b[39;49m\u001b[39m*\u001b[39;49mkwargs)\n\u001b[0;32m     66\u001b[0m \u001b[39mexcept\u001b[39;00m \u001b[39mException\u001b[39;00m \u001b[39mas\u001b[39;00m e:\n\u001b[0;32m     67\u001b[0m     filtered_tb \u001b[39m=\u001b[39m _process_traceback_frames(e\u001b[39m.\u001b[39m__traceback__)\n",
      "File \u001b[1;32m~\\AppData\\Local\\Packages\\PythonSoftwareFoundation.Python.3.8_qbz5n2kfra8p0\\LocalCache\\local-packages\\Python38\\site-packages\\keras\\engine\\training.py:1656\u001b[0m, in \u001b[0;36mModel.fit\u001b[1;34m(self, x, y, batch_size, epochs, verbose, callbacks, validation_split, validation_data, shuffle, class_weight, sample_weight, initial_epoch, steps_per_epoch, validation_steps, validation_batch_size, validation_freq, max_queue_size, workers, use_multiprocessing)\u001b[0m\n\u001b[0;32m   1654\u001b[0m logs \u001b[39m=\u001b[39m tmp_logs\n\u001b[0;32m   1655\u001b[0m end_step \u001b[39m=\u001b[39m step \u001b[39m+\u001b[39m data_handler\u001b[39m.\u001b[39mstep_increment\n\u001b[1;32m-> 1656\u001b[0m callbacks\u001b[39m.\u001b[39;49mon_train_batch_end(end_step, logs)\n\u001b[0;32m   1657\u001b[0m \u001b[39mif\u001b[39;00m \u001b[39mself\u001b[39m\u001b[39m.\u001b[39mstop_training:\n\u001b[0;32m   1658\u001b[0m     \u001b[39mbreak\u001b[39;00m\n",
      "File \u001b[1;32m~\\AppData\\Local\\Packages\\PythonSoftwareFoundation.Python.3.8_qbz5n2kfra8p0\\LocalCache\\local-packages\\Python38\\site-packages\\keras\\callbacks.py:476\u001b[0m, in \u001b[0;36mCallbackList.on_train_batch_end\u001b[1;34m(self, batch, logs)\u001b[0m\n\u001b[0;32m    469\u001b[0m \u001b[39m\u001b[39m\u001b[39m\"\"\"Calls the `on_train_batch_end` methods of its callbacks.\u001b[39;00m\n\u001b[0;32m    470\u001b[0m \n\u001b[0;32m    471\u001b[0m \u001b[39mArgs:\u001b[39;00m\n\u001b[0;32m    472\u001b[0m \u001b[39m    batch: Integer, index of batch within the current epoch.\u001b[39;00m\n\u001b[0;32m    473\u001b[0m \u001b[39m    logs: Dict. Aggregated metric results up until this batch.\u001b[39;00m\n\u001b[0;32m    474\u001b[0m \u001b[39m\"\"\"\u001b[39;00m\n\u001b[0;32m    475\u001b[0m \u001b[39mif\u001b[39;00m \u001b[39mself\u001b[39m\u001b[39m.\u001b[39m_should_call_train_batch_hooks:\n\u001b[1;32m--> 476\u001b[0m     \u001b[39mself\u001b[39;49m\u001b[39m.\u001b[39;49m_call_batch_hook(ModeKeys\u001b[39m.\u001b[39;49mTRAIN, \u001b[39m\"\u001b[39;49m\u001b[39mend\u001b[39;49m\u001b[39m\"\u001b[39;49m, batch, logs\u001b[39m=\u001b[39;49mlogs)\n",
      "File \u001b[1;32m~\\AppData\\Local\\Packages\\PythonSoftwareFoundation.Python.3.8_qbz5n2kfra8p0\\LocalCache\\local-packages\\Python38\\site-packages\\keras\\callbacks.py:323\u001b[0m, in \u001b[0;36mCallbackList._call_batch_hook\u001b[1;34m(self, mode, hook, batch, logs)\u001b[0m\n\u001b[0;32m    321\u001b[0m     \u001b[39mself\u001b[39m\u001b[39m.\u001b[39m_call_batch_begin_hook(mode, batch, logs)\n\u001b[0;32m    322\u001b[0m \u001b[39melif\u001b[39;00m hook \u001b[39m==\u001b[39m \u001b[39m\"\u001b[39m\u001b[39mend\u001b[39m\u001b[39m\"\u001b[39m:\n\u001b[1;32m--> 323\u001b[0m     \u001b[39mself\u001b[39;49m\u001b[39m.\u001b[39;49m_call_batch_end_hook(mode, batch, logs)\n\u001b[0;32m    324\u001b[0m \u001b[39melse\u001b[39;00m:\n\u001b[0;32m    325\u001b[0m     \u001b[39mraise\u001b[39;00m \u001b[39mValueError\u001b[39;00m(\n\u001b[0;32m    326\u001b[0m         \u001b[39mf\u001b[39m\u001b[39m\"\u001b[39m\u001b[39mUnrecognized hook: \u001b[39m\u001b[39m{\u001b[39;00mhook\u001b[39m}\u001b[39;00m\u001b[39m. \u001b[39m\u001b[39m\"\u001b[39m\n\u001b[0;32m    327\u001b[0m         \u001b[39m'\u001b[39m\u001b[39mExpected values are [\u001b[39m\u001b[39m\"\u001b[39m\u001b[39mbegin\u001b[39m\u001b[39m\"\u001b[39m\u001b[39m, \u001b[39m\u001b[39m\"\u001b[39m\u001b[39mend\u001b[39m\u001b[39m\"\u001b[39m\u001b[39m]\u001b[39m\u001b[39m'\u001b[39m\n\u001b[0;32m    328\u001b[0m     )\n",
      "File \u001b[1;32m~\\AppData\\Local\\Packages\\PythonSoftwareFoundation.Python.3.8_qbz5n2kfra8p0\\LocalCache\\local-packages\\Python38\\site-packages\\keras\\callbacks.py:346\u001b[0m, in \u001b[0;36mCallbackList._call_batch_end_hook\u001b[1;34m(self, mode, batch, logs)\u001b[0m\n\u001b[0;32m    343\u001b[0m     batch_time \u001b[39m=\u001b[39m time\u001b[39m.\u001b[39mtime() \u001b[39m-\u001b[39m \u001b[39mself\u001b[39m\u001b[39m.\u001b[39m_batch_start_time\n\u001b[0;32m    344\u001b[0m     \u001b[39mself\u001b[39m\u001b[39m.\u001b[39m_batch_times\u001b[39m.\u001b[39mappend(batch_time)\n\u001b[1;32m--> 346\u001b[0m \u001b[39mself\u001b[39;49m\u001b[39m.\u001b[39;49m_call_batch_hook_helper(hook_name, batch, logs)\n\u001b[0;32m    348\u001b[0m \u001b[39mif\u001b[39;00m \u001b[39mlen\u001b[39m(\u001b[39mself\u001b[39m\u001b[39m.\u001b[39m_batch_times) \u001b[39m>\u001b[39m\u001b[39m=\u001b[39m \u001b[39mself\u001b[39m\u001b[39m.\u001b[39m_num_batches_for_timing_check:\n\u001b[0;32m    349\u001b[0m     end_hook_name \u001b[39m=\u001b[39m hook_name\n",
      "File \u001b[1;32m~\\AppData\\Local\\Packages\\PythonSoftwareFoundation.Python.3.8_qbz5n2kfra8p0\\LocalCache\\local-packages\\Python38\\site-packages\\keras\\callbacks.py:394\u001b[0m, in \u001b[0;36mCallbackList._call_batch_hook_helper\u001b[1;34m(self, hook_name, batch, logs)\u001b[0m\n\u001b[0;32m    392\u001b[0m \u001b[39mfor\u001b[39;00m callback \u001b[39min\u001b[39;00m \u001b[39mself\u001b[39m\u001b[39m.\u001b[39mcallbacks:\n\u001b[0;32m    393\u001b[0m     hook \u001b[39m=\u001b[39m \u001b[39mgetattr\u001b[39m(callback, hook_name)\n\u001b[1;32m--> 394\u001b[0m     hook(batch, logs)\n\u001b[0;32m    396\u001b[0m \u001b[39mif\u001b[39;00m \u001b[39mself\u001b[39m\u001b[39m.\u001b[39m_check_timing:\n\u001b[0;32m    397\u001b[0m     \u001b[39mif\u001b[39;00m hook_name \u001b[39mnot\u001b[39;00m \u001b[39min\u001b[39;00m \u001b[39mself\u001b[39m\u001b[39m.\u001b[39m_hook_times:\n",
      "File \u001b[1;32m~\\AppData\\Local\\Packages\\PythonSoftwareFoundation.Python.3.8_qbz5n2kfra8p0\\LocalCache\\local-packages\\Python38\\site-packages\\keras\\callbacks.py:1094\u001b[0m, in \u001b[0;36mProgbarLogger.on_train_batch_end\u001b[1;34m(self, batch, logs)\u001b[0m\n\u001b[0;32m   1093\u001b[0m \u001b[39mdef\u001b[39;00m \u001b[39mon_train_batch_end\u001b[39m(\u001b[39mself\u001b[39m, batch, logs\u001b[39m=\u001b[39m\u001b[39mNone\u001b[39;00m):\n\u001b[1;32m-> 1094\u001b[0m     \u001b[39mself\u001b[39;49m\u001b[39m.\u001b[39;49m_batch_update_progbar(batch, logs)\n",
      "File \u001b[1;32m~\\AppData\\Local\\Packages\\PythonSoftwareFoundation.Python.3.8_qbz5n2kfra8p0\\LocalCache\\local-packages\\Python38\\site-packages\\keras\\callbacks.py:1171\u001b[0m, in \u001b[0;36mProgbarLogger._batch_update_progbar\u001b[1;34m(self, batch, logs)\u001b[0m\n\u001b[0;32m   1168\u001b[0m \u001b[39mif\u001b[39;00m \u001b[39mself\u001b[39m\u001b[39m.\u001b[39mverbose \u001b[39m==\u001b[39m \u001b[39m1\u001b[39m:\n\u001b[0;32m   1169\u001b[0m     \u001b[39m# Only block async when verbose = 1.\u001b[39;00m\n\u001b[0;32m   1170\u001b[0m     logs \u001b[39m=\u001b[39m tf_utils\u001b[39m.\u001b[39msync_to_numpy_or_python_type(logs)\n\u001b[1;32m-> 1171\u001b[0m     \u001b[39mself\u001b[39;49m\u001b[39m.\u001b[39;49mprogbar\u001b[39m.\u001b[39;49mupdate(\u001b[39mself\u001b[39;49m\u001b[39m.\u001b[39;49mseen, \u001b[39mlist\u001b[39;49m(logs\u001b[39m.\u001b[39;49mitems()), finalize\u001b[39m=\u001b[39;49m\u001b[39mFalse\u001b[39;49;00m)\n",
      "File \u001b[1;32m~\\AppData\\Local\\Packages\\PythonSoftwareFoundation.Python.3.8_qbz5n2kfra8p0\\LocalCache\\local-packages\\Python38\\site-packages\\keras\\utils\\generic_utils.py:297\u001b[0m, in \u001b[0;36mProgbar.update\u001b[1;34m(self, current, values, finalize)\u001b[0m\n\u001b[0;32m    294\u001b[0m         info \u001b[39m+\u001b[39m\u001b[39m=\u001b[39m \u001b[39m\"\u001b[39m\u001b[39m\\n\u001b[39;00m\u001b[39m\"\u001b[39m\n\u001b[0;32m    296\u001b[0m     message \u001b[39m+\u001b[39m\u001b[39m=\u001b[39m info\n\u001b[1;32m--> 297\u001b[0m     io_utils\u001b[39m.\u001b[39;49mprint_msg(message, line_break\u001b[39m=\u001b[39;49m\u001b[39mFalse\u001b[39;49;00m)\n\u001b[0;32m    298\u001b[0m     message \u001b[39m=\u001b[39m \u001b[39m\"\u001b[39m\u001b[39m\"\u001b[39m\n\u001b[0;32m    300\u001b[0m \u001b[39melif\u001b[39;00m \u001b[39mself\u001b[39m\u001b[39m.\u001b[39mverbose \u001b[39m==\u001b[39m \u001b[39m2\u001b[39m:\n",
      "File \u001b[1;32m~\\AppData\\Local\\Packages\\PythonSoftwareFoundation.Python.3.8_qbz5n2kfra8p0\\LocalCache\\local-packages\\Python38\\site-packages\\keras\\utils\\io_utils.py:79\u001b[0m, in \u001b[0;36mprint_msg\u001b[1;34m(message, line_break)\u001b[0m\n\u001b[0;32m     77\u001b[0m         sys\u001b[39m.\u001b[39mstdout\u001b[39m.\u001b[39mwrite(message \u001b[39m+\u001b[39m \u001b[39m\"\u001b[39m\u001b[39m\\n\u001b[39;00m\u001b[39m\"\u001b[39m)\n\u001b[0;32m     78\u001b[0m     \u001b[39melse\u001b[39;00m:\n\u001b[1;32m---> 79\u001b[0m         sys\u001b[39m.\u001b[39;49mstdout\u001b[39m.\u001b[39;49mwrite(message)\n\u001b[0;32m     80\u001b[0m     sys\u001b[39m.\u001b[39mstdout\u001b[39m.\u001b[39mflush()\n\u001b[0;32m     81\u001b[0m \u001b[39melse\u001b[39;00m:\n",
      "File \u001b[1;32m~\\AppData\\Local\\Packages\\PythonSoftwareFoundation.Python.3.8_qbz5n2kfra8p0\\LocalCache\\local-packages\\Python38\\site-packages\\ipykernel\\iostream.py:563\u001b[0m, in \u001b[0;36mOutStream.write\u001b[1;34m(self, string)\u001b[0m\n\u001b[0;32m    561\u001b[0m         \u001b[39mself\u001b[39m\u001b[39m.\u001b[39mpub_thread\u001b[39m.\u001b[39mschedule(\u001b[39mself\u001b[39m\u001b[39m.\u001b[39m_flush)\n\u001b[0;32m    562\u001b[0m     \u001b[39melse\u001b[39;00m:\n\u001b[1;32m--> 563\u001b[0m         \u001b[39mself\u001b[39;49m\u001b[39m.\u001b[39;49m_schedule_flush()\n\u001b[0;32m    565\u001b[0m \u001b[39mreturn\u001b[39;00m \u001b[39mlen\u001b[39m(string)\n",
      "File \u001b[1;32m~\\AppData\\Local\\Packages\\PythonSoftwareFoundation.Python.3.8_qbz5n2kfra8p0\\LocalCache\\local-packages\\Python38\\site-packages\\ipykernel\\iostream.py:469\u001b[0m, in \u001b[0;36mOutStream._schedule_flush\u001b[1;34m(self)\u001b[0m\n\u001b[0;32m    466\u001b[0m \u001b[39mdef\u001b[39;00m \u001b[39m_schedule_in_thread\u001b[39m():\n\u001b[0;32m    467\u001b[0m     \u001b[39mself\u001b[39m\u001b[39m.\u001b[39m_io_loop\u001b[39m.\u001b[39mcall_later(\u001b[39mself\u001b[39m\u001b[39m.\u001b[39mflush_interval, \u001b[39mself\u001b[39m\u001b[39m.\u001b[39m_flush)\n\u001b[1;32m--> 469\u001b[0m \u001b[39mself\u001b[39;49m\u001b[39m.\u001b[39;49mpub_thread\u001b[39m.\u001b[39;49mschedule(_schedule_in_thread)\n",
      "File \u001b[1;32m~\\AppData\\Local\\Packages\\PythonSoftwareFoundation.Python.3.8_qbz5n2kfra8p0\\LocalCache\\local-packages\\Python38\\site-packages\\ipykernel\\iostream.py:210\u001b[0m, in \u001b[0;36mIOPubThread.schedule\u001b[1;34m(self, f)\u001b[0m\n\u001b[0;32m    208\u001b[0m     \u001b[39mself\u001b[39m\u001b[39m.\u001b[39m_events\u001b[39m.\u001b[39mappend(f)\n\u001b[0;32m    209\u001b[0m     \u001b[39m# wake event thread (message content is ignored)\u001b[39;00m\n\u001b[1;32m--> 210\u001b[0m     \u001b[39mself\u001b[39;49m\u001b[39m.\u001b[39;49m_event_pipe\u001b[39m.\u001b[39;49msend(\u001b[39mb\u001b[39;49m\u001b[39m\"\u001b[39;49m\u001b[39m\"\u001b[39;49m)\n\u001b[0;32m    211\u001b[0m \u001b[39melse\u001b[39;00m:\n\u001b[0;32m    212\u001b[0m     f()\n",
      "File \u001b[1;32m~\\AppData\\Local\\Packages\\PythonSoftwareFoundation.Python.3.8_qbz5n2kfra8p0\\LocalCache\\local-packages\\Python38\\site-packages\\zmq\\sugar\\socket.py:620\u001b[0m, in \u001b[0;36mSocket.send\u001b[1;34m(self, data, flags, copy, track, routing_id, group)\u001b[0m\n\u001b[0;32m    613\u001b[0m         data \u001b[39m=\u001b[39m zmq\u001b[39m.\u001b[39mFrame(\n\u001b[0;32m    614\u001b[0m             data,\n\u001b[0;32m    615\u001b[0m             track\u001b[39m=\u001b[39mtrack,\n\u001b[0;32m    616\u001b[0m             copy\u001b[39m=\u001b[39mcopy \u001b[39mor\u001b[39;00m \u001b[39mNone\u001b[39;00m,\n\u001b[0;32m    617\u001b[0m             copy_threshold\u001b[39m=\u001b[39m\u001b[39mself\u001b[39m\u001b[39m.\u001b[39mcopy_threshold,\n\u001b[0;32m    618\u001b[0m         )\n\u001b[0;32m    619\u001b[0m     data\u001b[39m.\u001b[39mgroup \u001b[39m=\u001b[39m group\n\u001b[1;32m--> 620\u001b[0m \u001b[39mreturn\u001b[39;00m \u001b[39msuper\u001b[39;49m()\u001b[39m.\u001b[39;49msend(data, flags\u001b[39m=\u001b[39;49mflags, copy\u001b[39m=\u001b[39;49mcopy, track\u001b[39m=\u001b[39;49mtrack)\n",
      "File \u001b[1;32mzmq\\backend\\cython\\socket.pyx:746\u001b[0m, in \u001b[0;36mzmq.backend.cython.socket.Socket.send\u001b[1;34m()\u001b[0m\n",
      "File \u001b[1;32mzmq\\backend\\cython\\socket.pyx:793\u001b[0m, in \u001b[0;36mzmq.backend.cython.socket.Socket.send\u001b[1;34m()\u001b[0m\n",
      "File \u001b[1;32mzmq\\backend\\cython\\socket.pyx:250\u001b[0m, in \u001b[0;36mzmq.backend.cython.socket._send_copy\u001b[1;34m()\u001b[0m\n",
      "File \u001b[1;32m~\\AppData\\Local\\Packages\\PythonSoftwareFoundation.Python.3.8_qbz5n2kfra8p0\\LocalCache\\local-packages\\Python38\\site-packages\\zmq\\backend\\cython\\checkrc.pxd:13\u001b[0m, in \u001b[0;36mzmq.backend.cython.checkrc._check_rc\u001b[1;34m()\u001b[0m\n",
      "\u001b[1;31mKeyboardInterrupt\u001b[0m: "
     ]
    }
   ],
   "source": [
    "reg = ak.TextRegressor(overwrite=True, max_trials=5)\n",
    "\n",
    "reg.fit(X_train, y_train_c, epochs=10)\n",
    "model = reg.export_model()\n",
    "model.save(\"../models/c_model_r\", save_format='tf')"
   ]
  },
  {
   "cell_type": "code",
   "execution_count": 4,
   "metadata": {},
   "outputs": [
    {
     "name": "stdout",
     "output_type": "stream",
     "text": [
      "Model: \"model\"\n",
      "_________________________________________________________________\n",
      " Layer (type)                Output Shape              Param #   \n",
      "=================================================================\n",
      " input_1 (InputLayer)        [(None,)]                 0         \n",
      "                                                                 \n",
      " expand_last_dim (ExpandLast  (None, 1)                0         \n",
      " Dim)                                                            \n",
      "                                                                 \n",
      " text_vectorization (TextVec  (None, 128)              0         \n",
      " torization)                                                     \n",
      "                                                                 \n",
      " embedding (Embedding)       (None, 128, 128)          640128    \n",
      "                                                                 \n",
      " dropout (Dropout)           (None, 128, 128)          0         \n",
      "                                                                 \n",
      " conv1d (Conv1D)             (None, 126, 32)           12320     \n",
      "                                                                 \n",
      " max_pooling1d (MaxPooling1D  (None, 63, 32)           0         \n",
      " )                                                               \n",
      "                                                                 \n",
      " conv1d_1 (Conv1D)           (None, 61, 32)            3104      \n",
      "                                                                 \n",
      " max_pooling1d_1 (MaxPooling  (None, 30, 32)           0         \n",
      " 1D)                                                             \n",
      "                                                                 \n",
      " flatten (Flatten)           (None, 960)               0         \n",
      "                                                                 \n",
      " dense (Dense)               (None, 32)                30752     \n",
      "                                                                 \n",
      " re_lu (ReLU)                (None, 32)                0         \n",
      "                                                                 \n",
      " regression_head_1 (Dense)   (None, 1)                 33        \n",
      "                                                                 \n",
      "=================================================================\n",
      "Total params: 686,337\n",
      "Trainable params: 686,337\n",
      "Non-trainable params: 0\n",
      "_________________________________________________________________\n"
     ]
    }
   ],
   "source": [
    "loaded_model = load_model('../models/n_model', custom_objects=ak.CUSTOM_OBJECTS)\n",
    "loaded_model.summary()\n",
    "# loaded_model.predict(tf.expand_dims((X_test), -1))"
   ]
  }
 ],
 "metadata": {
  "kernelspec": {
   "display_name": "Python 3",
   "language": "python",
   "name": "python3"
  },
  "language_info": {
   "codemirror_mode": {
    "name": "ipython",
    "version": 3
   },
   "file_extension": ".py",
   "mimetype": "text/x-python",
   "name": "python",
   "nbconvert_exporter": "python",
   "pygments_lexer": "ipython3",
   "version": "3.8.10"
  },
  "orig_nbformat": 4,
  "vscode": {
   "interpreter": {
    "hash": "b4c01c8f52586033bb4bb2bf4f864991e275e728809d596b5bf2a750c26b84f7"
   }
  }
 },
 "nbformat": 4,
 "nbformat_minor": 2
}
