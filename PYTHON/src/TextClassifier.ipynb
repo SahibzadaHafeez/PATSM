{
 "cells": [
  {
   "cell_type": "code",
   "execution_count": 15,
   "metadata": {},
   "outputs": [],
   "source": [
    "import pandas\n",
    "import numpy as np\n",
    "import tensorflow as tf\n",
    "from keras.models import load_model, save_model\n",
    "import autokeras as ak\n",
    "from sklearn.model_selection import train_test_split\n",
    "\n"
   ]
  },
  {
   "cell_type": "code",
   "execution_count": 16,
   "metadata": {},
   "outputs": [],
   "source": [
    "train = pandas.read_csv('../dataset/classified_cleaned_data.csv')\n",
    "\n",
    "X = train['tweet']\n",
    "y_n = train['neuroticism']\n",
    "y_e = train['extraversion']\n",
    "y_o = train['openness']\n",
    "y_a = train['agreeableness']\n",
    "y_c = train['conscientiousness']\n",
    "\n",
    "X_train, X_test, y_train_n, y_test_n, y_train_e, y_test_e, y_train_o, y_test_o, y_train_a, y_test_a, y_train_c, y_test_c = train_test_split(X, y_n, y_e, y_o, y_a, y_c, test_size=0.2)"
   ]
  },
  {
   "cell_type": "code",
   "execution_count": 17,
   "metadata": {},
   "outputs": [],
   "source": [
    "X_train = np.array(X_train)\n",
    "X_test = np.array(X_test)\n",
    "y_train_n = np.array(y_train_n)\n",
    "y_train_e = np.array(y_train_e)\n",
    "y_train_o = np.array(y_train_o)\n",
    "y_train_a = np.array(y_train_a)\n",
    "y_train_c = np.array(y_train_c)\n",
    "y_test_n = np.array(y_test_n)\n",
    "y_test_e = np.array(y_test_e)\n",
    "y_test_o = np.array(y_test_o)\n",
    "y_test_a = np.array(y_test_a)\n",
    "y_test_c = np.array(y_test_c)\n",
    "\n",
    "# y_test_n = np.array(y_test_n)"
   ]
  },
  {
   "cell_type": "code",
   "execution_count": null,
   "metadata": {},
   "outputs": [],
   "source": [
    "reg = ak.TextRegressor(overwrite=True, max_trials=10)\n",
    "\n",
    "reg.fit(X_train, y_train_n, epochs=100)\n",
    "model = reg.export_model()\n",
    "model.save(\"../models/n_auto_model_temp_calss\", save_format='tf')"
   ]
  },
  {
   "cell_type": "code",
   "execution_count": null,
   "metadata": {},
   "outputs": [],
   "source": [
    "reg = ak.TextRegressor(overwrite=True, max_trials=10)\n",
    "\n",
    "reg.fit(X_train, y_train_e, epochs=100)\n",
    "model = reg.export_model()\n",
    "model.save(\"../models/e_auto_model_temp_class\", save_format='tf')"
   ]
  },
  {
   "cell_type": "code",
   "execution_count": null,
   "metadata": {},
   "outputs": [],
   "source": [
    "reg = ak.TextRegressor(overwrite=True, max_trials=10)\n",
    "\n",
    "reg.fit(X_train, y_train_o, epochs=100)\n",
    "model = reg.export_model()\n",
    "model.save(\"../models/o_auto_model_temp_class\", save_format='tf')"
   ]
  },
  {
   "cell_type": "code",
   "execution_count": 18,
   "metadata": {},
   "outputs": [
    {
     "name": "stdout",
     "output_type": "stream",
     "text": [
      "Trial 20 Complete [00h 01m 20s]\n",
      "val_loss: 0.39554595947265625\n",
      "\n",
      "Best val_loss So Far: 0.37049636244773865\n",
      "Total elapsed time: 00h 17m 55s\n",
      "INFO:tensorflow:Oracle triggered exit\n",
      "Epoch 1/20\n",
      "383/383 [==============================] - 5s 10ms/step - loss: 0.6537 - mean_squared_error: 0.6537\n",
      "Epoch 2/20\n",
      "383/383 [==============================] - 4s 10ms/step - loss: 0.3967 - mean_squared_error: 0.3967\n",
      "Epoch 3/20\n",
      "383/383 [==============================] - 4s 11ms/step - loss: 0.3639 - mean_squared_error: 0.3639\n",
      "Epoch 4/20\n",
      "383/383 [==============================] - 3s 9ms/step - loss: 0.3274 - mean_squared_error: 0.3274\n",
      "Epoch 5/20\n",
      "383/383 [==============================] - 3s 9ms/step - loss: 0.2728 - mean_squared_error: 0.2728\n",
      "Epoch 6/20\n",
      "383/383 [==============================] - 3s 8ms/step - loss: 0.2361 - mean_squared_error: 0.2361\n",
      "Epoch 7/20\n",
      "383/383 [==============================] - 3s 8ms/step - loss: 0.2046 - mean_squared_error: 0.2046\n",
      "Epoch 8/20\n",
      "383/383 [==============================] - 3s 9ms/step - loss: 0.1823 - mean_squared_error: 0.1823\n",
      "Epoch 9/20\n",
      "383/383 [==============================] - 3s 9ms/step - loss: 0.1613 - mean_squared_error: 0.1613\n",
      "Epoch 10/20\n",
      "383/383 [==============================] - 3s 9ms/step - loss: 0.1406 - mean_squared_error: 0.1406\n",
      "Epoch 11/20\n",
      "383/383 [==============================] - 3s 9ms/step - loss: 0.1308 - mean_squared_error: 0.1308\n",
      "Epoch 12/20\n",
      "383/383 [==============================] - 3s 9ms/step - loss: 0.1253 - mean_squared_error: 0.1253\n",
      "Epoch 13/20\n",
      "383/383 [==============================] - 3s 9ms/step - loss: 0.1138 - mean_squared_error: 0.1138\n",
      "Epoch 14/20\n",
      "383/383 [==============================] - 3s 8ms/step - loss: 0.1088 - mean_squared_error: 0.1088\n",
      "Epoch 15/20\n",
      "383/383 [==============================] - 3s 8ms/step - loss: 0.0962 - mean_squared_error: 0.0962\n",
      "Epoch 16/20\n",
      "383/383 [==============================] - 3s 8ms/step - loss: 0.0934 - mean_squared_error: 0.0934\n",
      "Epoch 17/20\n",
      "383/383 [==============================] - 4s 10ms/step - loss: 0.0903 - mean_squared_error: 0.0903\n",
      "Epoch 18/20\n",
      "383/383 [==============================] - 3s 9ms/step - loss: 0.0829 - mean_squared_error: 0.0829\n",
      "Epoch 19/20\n",
      "383/383 [==============================] - 3s 9ms/step - loss: 0.0798 - mean_squared_error: 0.0798\n",
      "Epoch 20/20\n",
      "383/383 [==============================] - 3s 9ms/step - loss: 0.0747 - mean_squared_error: 0.0747\n"
     ]
    },
    {
     "name": "stderr",
     "output_type": "stream",
     "text": [
      "WARNING:absl:Found untraced functions such as _jit_compiled_convolution_op, _jit_compiled_convolution_op, _jit_compiled_convolution_op, _jit_compiled_convolution_op while saving (showing 4 of 4). These functions will not be directly callable after loading.\n"
     ]
    },
    {
     "name": "stdout",
     "output_type": "stream",
     "text": [
      "INFO:tensorflow:Assets written to: .\\text_regressor\\best_model\\assets\n"
     ]
    },
    {
     "name": "stderr",
     "output_type": "stream",
     "text": [
      "INFO:tensorflow:Assets written to: .\\text_regressor\\best_model\\assets\n",
      "WARNING:absl:Found untraced functions such as _jit_compiled_convolution_op, _jit_compiled_convolution_op, _jit_compiled_convolution_op, _jit_compiled_convolution_op while saving (showing 4 of 4). These functions will not be directly callable after loading.\n"
     ]
    },
    {
     "name": "stdout",
     "output_type": "stream",
     "text": [
      "INFO:tensorflow:Assets written to: ../models/a_auto_model_temp_class\\assets\n"
     ]
    },
    {
     "name": "stderr",
     "output_type": "stream",
     "text": [
      "INFO:tensorflow:Assets written to: ../models/a_auto_model_temp_class\\assets\n"
     ]
    }
   ],
   "source": [
    "reg = ak.TextRegressor(overwrite=True, max_trials=20)\n",
    "\n",
    "reg.fit(X_train, y_train_a, epochs=20)\n",
    "model = reg.export_model()\n",
    "model.save(\"../models/a_auto_model_temp_class\", save_format='tf')"
   ]
  },
  {
   "cell_type": "code",
   "execution_count": null,
   "metadata": {},
   "outputs": [],
   "source": [
    "reg = ak.TextRegressor(overwrite=True, max_trials=10)\n",
    "\n",
    "reg.fit(X_train, y_train_c, epochs=100)\n",
    "model = reg.export_model()\n",
    "model.save(\"../models/c_auto_model_temp_class\", save_format='tf')"
   ]
  },
  {
   "cell_type": "code",
   "execution_count": null,
   "metadata": {},
   "outputs": [],
   "source": [
    "loaded_model = load_model('../models/n_auto_model_temp', custom_objects=ak.CUSTOM_OBJECTS)\n",
    "loaded_model.fit(tf.expand_dims((X_train), -1), y_train_n, epochs=50)"
   ]
  },
  {
   "cell_type": "code",
   "execution_count": null,
   "metadata": {},
   "outputs": [],
   "source": [
    "\n",
    "# loaded_model = load_model('../models/n_auto_model_temp', custom_objects=ak.CUSTOM_OBJECTS)\n",
    "# #loaded_model.save('tempa', save_format='h5')\n",
    "# save_model(loaded_model, \"./mymodel1.h5\")\n",
    "\n",
    "tf.keras.models.load_model('../models/n_auto_model_temp')"
   ]
  },
  {
   "cell_type": "code",
   "execution_count": null,
   "metadata": {},
   "outputs": [],
   "source": [
    "loaded_model = load_model('../models/n_model', custom_objects=ak.CUSTOM_OBJECTS)\n",
    "loaded_model.evaluate(tf.expand_dims((X_test), y_test_n))"
   ]
  }
 ],
 "metadata": {
  "kernelspec": {
   "display_name": "Python 3",
   "language": "python",
   "name": "python3"
  },
  "language_info": {
   "codemirror_mode": {
    "name": "ipython",
    "version": 3
   },
   "file_extension": ".py",
   "mimetype": "text/x-python",
   "name": "python",
   "nbconvert_exporter": "python",
   "pygments_lexer": "ipython3",
   "version": "3.8.10 (tags/v3.8.10:3d8993a, May  3 2021, 11:48:03) [MSC v.1928 64 bit (AMD64)]"
  },
  "orig_nbformat": 4,
  "vscode": {
   "interpreter": {
    "hash": "5b25f12d095c5c52ca6d3d570b46e8cc90398a92bc1f744164840a37e6cc3b70"
   }
  }
 },
 "nbformat": 4,
 "nbformat_minor": 2
}
